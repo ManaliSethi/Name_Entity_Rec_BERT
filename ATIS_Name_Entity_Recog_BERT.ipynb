{
  "nbformat": 4,
  "nbformat_minor": 0,
  "metadata": {
    "colab": {
      "name": "ATIS_Name Entity Recog_BERT.ipynb",
      "version": "0.3.2",
      "provenance": [],
      "collapsed_sections": []
    },
    "kernelspec": {
      "name": "python3",
      "display_name": "Python 3"
    },
    "accelerator": "GPU"
  },
  "cells": [
    {
      "cell_type": "code",
      "metadata": {
        "id": "fBe4eRhQqPNr",
        "colab_type": "code",
        "colab": {
          "base_uri": "https://localhost:8080/",
          "height": 591
        },
        "outputId": "d1590790-1177-43a1-8977-3a6fad6295fa"
      },
      "source": [
        "!pip3 install pytorch_pretrained_bert\n",
        "!pip install seqeval"
      ],
      "execution_count": 2,
      "outputs": [
        {
          "output_type": "stream",
          "text": [
            "Collecting pytorch_pretrained_bert\n",
            "\u001b[?25l  Downloading https://files.pythonhosted.org/packages/d7/e0/c08d5553b89973d9a240605b9c12404bcf8227590de62bae27acbcfe076b/pytorch_pretrained_bert-0.6.2-py3-none-any.whl (123kB)\n",
            "\u001b[K     |████████████████████████████████| 133kB 2.8MB/s \n",
            "\u001b[?25hRequirement already satisfied: regex in /usr/local/lib/python3.6/dist-packages (from pytorch_pretrained_bert) (2018.1.10)\n",
            "Requirement already satisfied: numpy in /usr/local/lib/python3.6/dist-packages (from pytorch_pretrained_bert) (1.16.3)\n",
            "Requirement already satisfied: boto3 in /usr/local/lib/python3.6/dist-packages (from pytorch_pretrained_bert) (1.9.153)\n",
            "Requirement already satisfied: requests in /usr/local/lib/python3.6/dist-packages (from pytorch_pretrained_bert) (2.21.0)\n",
            "Requirement already satisfied: torch>=0.4.1 in /usr/local/lib/python3.6/dist-packages (from pytorch_pretrained_bert) (1.1.0)\n",
            "Requirement already satisfied: tqdm in /usr/local/lib/python3.6/dist-packages (from pytorch_pretrained_bert) (4.28.1)\n",
            "Requirement already satisfied: botocore<1.13.0,>=1.12.153 in /usr/local/lib/python3.6/dist-packages (from boto3->pytorch_pretrained_bert) (1.12.153)\n",
            "Requirement already satisfied: jmespath<1.0.0,>=0.7.1 in /usr/local/lib/python3.6/dist-packages (from boto3->pytorch_pretrained_bert) (0.9.4)\n",
            "Requirement already satisfied: s3transfer<0.3.0,>=0.2.0 in /usr/local/lib/python3.6/dist-packages (from boto3->pytorch_pretrained_bert) (0.2.0)\n",
            "Requirement already satisfied: chardet<3.1.0,>=3.0.2 in /usr/local/lib/python3.6/dist-packages (from requests->pytorch_pretrained_bert) (3.0.4)\n",
            "Requirement already satisfied: urllib3<1.25,>=1.21.1 in /usr/local/lib/python3.6/dist-packages (from requests->pytorch_pretrained_bert) (1.24.3)\n",
            "Requirement already satisfied: certifi>=2017.4.17 in /usr/local/lib/python3.6/dist-packages (from requests->pytorch_pretrained_bert) (2019.3.9)\n",
            "Requirement already satisfied: idna<2.9,>=2.5 in /usr/local/lib/python3.6/dist-packages (from requests->pytorch_pretrained_bert) (2.8)\n",
            "Requirement already satisfied: python-dateutil<3.0.0,>=2.1; python_version >= \"2.7\" in /usr/local/lib/python3.6/dist-packages (from botocore<1.13.0,>=1.12.153->boto3->pytorch_pretrained_bert) (2.5.3)\n",
            "Requirement already satisfied: docutils>=0.10 in /usr/local/lib/python3.6/dist-packages (from botocore<1.13.0,>=1.12.153->boto3->pytorch_pretrained_bert) (0.14)\n",
            "Requirement already satisfied: six>=1.5 in /usr/local/lib/python3.6/dist-packages (from python-dateutil<3.0.0,>=2.1; python_version >= \"2.7\"->botocore<1.13.0,>=1.12.153->boto3->pytorch_pretrained_bert) (1.12.0)\n",
            "Installing collected packages: pytorch-pretrained-bert\n",
            "Successfully installed pytorch-pretrained-bert-0.6.2\n",
            "Collecting seqeval\n",
            "  Downloading https://files.pythonhosted.org/packages/55/dd/3bf1c646c310daabae47fceb84ea9ab66df7f518a31a89955290d82b8100/seqeval-0.0.10-py3-none-any.whl\n",
            "Requirement already satisfied: numpy>=1.14.0 in /usr/local/lib/python3.6/dist-packages (from seqeval) (1.16.3)\n",
            "Requirement already satisfied: Keras>=2.2.4 in /usr/local/lib/python3.6/dist-packages (from seqeval) (2.2.4)\n",
            "Requirement already satisfied: keras-applications>=1.0.6 in /usr/local/lib/python3.6/dist-packages (from Keras>=2.2.4->seqeval) (1.0.7)\n",
            "Requirement already satisfied: keras-preprocessing>=1.0.5 in /usr/local/lib/python3.6/dist-packages (from Keras>=2.2.4->seqeval) (1.0.9)\n",
            "Requirement already satisfied: pyyaml in /usr/local/lib/python3.6/dist-packages (from Keras>=2.2.4->seqeval) (3.13)\n",
            "Requirement already satisfied: scipy>=0.14 in /usr/local/lib/python3.6/dist-packages (from Keras>=2.2.4->seqeval) (1.3.0)\n",
            "Requirement already satisfied: h5py in /usr/local/lib/python3.6/dist-packages (from Keras>=2.2.4->seqeval) (2.8.0)\n",
            "Requirement already satisfied: six>=1.9.0 in /usr/local/lib/python3.6/dist-packages (from Keras>=2.2.4->seqeval) (1.12.0)\n",
            "Installing collected packages: seqeval\n",
            "Successfully installed seqeval-0.0.10\n"
          ],
          "name": "stdout"
        }
      ]
    },
    {
      "cell_type": "code",
      "metadata": {
        "id": "wL4YuxZEhwlL",
        "colab_type": "code",
        "colab": {}
      },
      "source": [
        "import pandas as pd\n",
        "import numpy as np\n",
        "import numpy as np # linear algebra\n",
        "import pandas as pd # data processing, CSV file I/O (e.g. pd.read_csv)\n",
        "from zipfile import ZipFile\n",
        "import os\n",
        "import pickle\n",
        "import torch\n",
        "from torch.optim import Adam\n",
        "from torch.utils.data import TensorDataset, DataLoader, RandomSampler, SequentialSampler\n",
        "from keras.preprocessing.sequence import pad_sequences\n",
        "from sklearn.model_selection import train_test_split\n",
        "from pytorch_pretrained_bert import BertTokenizer, BertConfig\n",
        "from pytorch_pretrained_bert import BertForTokenClassification, BertAdam\n",
        "from tqdm import tqdm, trange\n",
        "from seqeval.metrics import f1_score\n"
      ],
      "execution_count": 0,
      "outputs": []
    },
    {
      "cell_type": "code",
      "metadata": {
        "id": "IV3JMyFBiLQL",
        "colab_type": "code",
        "colab": {}
      },
      "source": [
        "with ZipFile(\"ms-cntk-atis.zip\", 'r') as zipObj:\n",
        "   zipObj.extractall()\n"
      ],
      "execution_count": 0,
      "outputs": []
    },
    {
      "cell_type": "code",
      "metadata": {
        "id": "GAR0bO3jV_mj",
        "colab_type": "code",
        "colab": {}
      },
      "source": [
        "def load_ds(fname='atis.train.pkl'):\n",
        "    with open(fname, 'rb') as stream:\n",
        "        ds,dicts = pickle.load(stream)\n",
        "    print('Done  loading: ', fname)\n",
        "    print('      samples: {:4d}'.format(len(ds['query'])))\n",
        "    print('   vocab_size: {:4d}'.format(len(dicts['token_ids'])))\n",
        "    print('   slot count: {:4d}'.format(len(dicts['slot_ids'])))\n",
        "    print(' intent count: {:4d}'.format(len(dicts['intent_ids'])))\n",
        "    return ds,dicts\n"
      ],
      "execution_count": 0,
      "outputs": []
    },
    {
      "cell_type": "code",
      "metadata": {
        "id": "4e9KRg-7pv1y",
        "colab_type": "code",
        "colab": {}
      },
      "source": [
        "# my_dict_final = []  # Create an empty dictionary\n",
        "# with open('atis.train.pkl', 'rb') as f:\n",
        "#     my_dict_final.append(pickle.load(f))   # Update contents of file1 to the dictionary\n",
        "# with open('atis.test.pkl', 'rb') as f:\n",
        "#     my_dict_final.append(pickle.load(f))   # Update contents of file2 to the dictionary\n",
        "# print(my_dict_final)"
      ],
      "execution_count": 0,
      "outputs": []
    },
    {
      "cell_type": "code",
      "metadata": {
        "id": "vRb52Q8QWL3P",
        "colab_type": "code",
        "outputId": "c7a581b3-01b2-41e8-cbfb-e093d9fc653e",
        "colab": {
          "base_uri": "https://localhost:8080/",
          "height": 185
        }
      },
      "source": [
        "train_ds, dicts = load_ds('atis.train.pkl')\n",
        "test_ds, dicts  = load_ds('atis.test.pkl')"
      ],
      "execution_count": 6,
      "outputs": [
        {
          "output_type": "stream",
          "text": [
            "Done  loading:  atis.train.pkl\n",
            "      samples: 4978\n",
            "   vocab_size:  943\n",
            "   slot count:  129\n",
            " intent count:   26\n",
            "Done  loading:  atis.test.pkl\n",
            "      samples:  893\n",
            "   vocab_size:  943\n",
            "   slot count:  129\n",
            " intent count:   26\n"
          ],
          "name": "stdout"
        }
      ]
    },
    {
      "cell_type": "code",
      "metadata": {
        "id": "izIyZb68qhVW",
        "colab_type": "code",
        "colab": {}
      },
      "source": [
        "t2i, s2i, in2i = map(dicts.get, ['token_ids', 'slot_ids','intent_ids'])\n",
        "i2t, i2s, i2in = map(lambda d: {d[k]:k for k in d.keys()}, [t2i,s2i,in2i])\n",
        "query, slots, intent =  map(train_ds.get, ['query', 'slot_labels', 'intent_labels'])\n",
        "\n",
        "sentence=[]\n",
        "n=[]\n",
        "\n",
        "labels=[]\n",
        "z=[]\n",
        "for i in range(len(query)):\n",
        "  y='{}'.format(' '.join(map(i2t.get, query[i])))\n",
        "  sentence.append(y)\n",
        "  lab=[]\n",
        "  for j in range(len(query[i])):\n",
        "    z='{}'.format(i2s[slots[i][j]])\n",
        "#     print(z)  \n",
        "    lab.append(z)\n",
        "#   print(lab) \n",
        "  labels.append(lab)\n",
        "\n",
        "# for i in labels:\n",
        "  \n",
        "#   print(i)  \n",
        "  "
      ],
      "execution_count": 0,
      "outputs": []
    },
    {
      "cell_type": "code",
      "metadata": {
        "id": "kfGl2zpAhtxz",
        "colab_type": "code",
        "colab": {}
      },
      "source": [
        "l=[]\n",
        "for i in range(len(query)):\n",
        "  \n",
        "  for j in range(len(query[i])):\n",
        "    z='{}'.format(i2s[slots[i][j]])\n",
        "#     print(z)  \n",
        "    l.append(z)\n",
        "#   \n"
      ],
      "execution_count": 0,
      "outputs": []
    },
    {
      "cell_type": "code",
      "metadata": {
        "id": "oZGZtKEdl8gZ",
        "colab_type": "code",
        "outputId": "6ce50df9-fbe9-42d8-f523-7168a8d7fa98",
        "colab": {
          "base_uri": "https://localhost:8080/",
          "height": 54
        }
      },
      "source": [
        "tags_vals = list(set(s2i.keys()))\n",
        "print(tags_vals)"
      ],
      "execution_count": 9,
      "outputs": [
        {
          "output_type": "stream",
          "text": [
            "['B-booking_class', 'I-depart_time.end_time', 'B-today_relative', 'I-fare_amount', 'B-flight_mod', 'I-round_trip', 'B-flight_days', 'I-cost_relative', 'B-fromloc.airport_name', 'B-airport_code', 'I-today_relative', 'B-compartment', 'B-arrive_time.end_time', 'B-mod', 'I-depart_time.time_relative', 'B-flight_time', 'B-days_code', 'I-return_date.today_relative', 'B-fare_amount', 'B-arrive_date.month_name', 'B-return_date.month_name', 'B-arrive_date.today_relative', 'I-flight_time', 'I-state_name', 'I-arrive_time.end_time', 'B-return_time.period_mod', 'B-class_type', 'B-period_of_day', 'B-fare_basis_code', 'B-aircraft_code', 'I-mod', 'B-arrive_time.time', 'I-flight_number', 'B-cost_relative', 'I-flight_stop', 'B-depart_date.day_number', 'I-airline_name', 'B-depart_time.period_mod', 'B-return_date.day_name', 'I-flight_mod', 'I-arrive_time.time_relative', 'B-stoploc.state_code', 'B-depart_time.start_time', 'B-time', 'B-arrive_time.start_time', 'B-toloc.airport_name', 'B-depart_date.today_relative', 'I-toloc.state_name', 'I-city_name', 'I-arrive_time.time', 'B-toloc.city_name', 'B-return_date.date_relative', 'I-arrive_date.day_number', 'I-meal_description', 'B-fromloc.airport_code', 'B-arrive_date.date_relative', 'B-meal', 'I-depart_time.start_time', 'I-fare_basis_code', 'B-fromloc.state_code', 'B-return_date.day_number', 'B-round_trip', 'I-airport_name', 'B-arrive_time.time_relative', 'I-arrive_time.period_of_day', 'B-transport_type', 'I-depart_date.day_number', 'I-fromloc.airport_name', 'B-fromloc.city_name', 'I-fromloc.state_name', 'I-transport_type', 'B-depart_date.day_name', 'B-meal_description', 'B-month_name', 'B-state_name', 'B-airline_code', 'B-connect', 'B-economy', 'I-time', 'B-stoploc.airport_name', 'I-depart_time.time', 'I-toloc.airport_name', 'B-fromloc.state_name', 'B-flight', 'I-fromloc.city_name', 'B-toloc.country_name', 'I-return_date.date_relative', 'I-class_type', 'B-depart_time.end_time', 'B-restriction_code', 'B-depart_date.year', 'B-stoploc.city_name', 'B-arrive_time.period_mod', 'B-city_name', 'B-depart_date.date_relative', 'I-return_date.day_number', 'B-day_number', 'B-toloc.state_code', 'B-return_date.today_relative', 'B-return_time.period_of_day', 'I-arrive_time.start_time', 'B-depart_date.month_name', 'B-arrive_date.day_number', 'B-depart_time.time_relative', 'B-depart_time.time', 'B-airline_name', 'B-or', 'B-depart_time.period_of_day', 'B-state_code', 'I-toloc.city_name', 'O', 'I-restriction_code', 'B-arrive_time.period_of_day', 'B-day_name', 'B-flight_stop', 'B-time_relative', 'B-airport_name', 'I-depart_date.day_name', 'B-meal_code', 'B-toloc.airport_code', 'I-depart_date.today_relative', 'I-stoploc.city_name', 'B-toloc.state_name', 'B-stoploc.airport_code', 'I-economy', 'I-meal_code', 'B-arrive_date.day_name', 'I-depart_time.period_of_day', 'B-flight_number']\n"
          ],
          "name": "stdout"
        }
      ]
    },
    {
      "cell_type": "code",
      "metadata": {
        "id": "QmHKvKDx-6gr",
        "colab_type": "code",
        "outputId": "e90ec529-c279-474c-b6d7-3fb19ad488fa",
        "colab": {
          "base_uri": "https://localhost:8080/",
          "height": 1193
        }
      },
      "source": [
        "labels[:5]"
      ],
      "execution_count": 10,
      "outputs": [
        {
          "output_type": "execute_result",
          "data": {
            "text/plain": [
              "[['O',\n",
              "  'O',\n",
              "  'O',\n",
              "  'O',\n",
              "  'O',\n",
              "  'O',\n",
              "  'B-fromloc.city_name',\n",
              "  'O',\n",
              "  'B-depart_time.time',\n",
              "  'I-depart_time.time',\n",
              "  'O',\n",
              "  'O',\n",
              "  'O',\n",
              "  'B-toloc.city_name',\n",
              "  'O',\n",
              "  'B-arrive_time.time',\n",
              "  'O',\n",
              "  'O',\n",
              "  'B-arrive_time.period_of_day',\n",
              "  'O'],\n",
              " ['O',\n",
              "  'O',\n",
              "  'O',\n",
              "  'O',\n",
              "  'O',\n",
              "  'O',\n",
              "  'B-fromloc.city_name',\n",
              "  'O',\n",
              "  'B-toloc.city_name',\n",
              "  'O',\n",
              "  'B-depart_date.day_name',\n",
              "  'B-depart_time.period_of_day',\n",
              "  'O'],\n",
              " ['O',\n",
              "  'O',\n",
              "  'O',\n",
              "  'O',\n",
              "  'B-flight_time',\n",
              "  'I-flight_time',\n",
              "  'O',\n",
              "  'B-fromloc.city_name',\n",
              "  'I-fromloc.city_name',\n",
              "  'O',\n",
              "  'O',\n",
              "  'B-depart_time.time',\n",
              "  'I-depart_time.time',\n",
              "  'O',\n",
              "  'O',\n",
              "  'B-fromloc.city_name',\n",
              "  'O'],\n",
              " ['O',\n",
              "  'B-cost_relative',\n",
              "  'O',\n",
              "  'O',\n",
              "  'B-fromloc.city_name',\n",
              "  'O',\n",
              "  'B-toloc.city_name',\n",
              "  'O'],\n",
              " ['O',\n",
              "  'B-round_trip',\n",
              "  'I-round_trip',\n",
              "  'O',\n",
              "  'O',\n",
              "  'B-fromloc.city_name',\n",
              "  'O',\n",
              "  'B-toloc.city_name',\n",
              "  'B-cost_relative',\n",
              "  'B-fare_amount',\n",
              "  'I-fare_amount',\n",
              "  'O']]"
            ]
          },
          "metadata": {
            "tags": []
          },
          "execution_count": 10
        }
      ]
    },
    {
      "cell_type": "code",
      "metadata": {
        "id": "ja0cbuwxWL0V",
        "colab_type": "code",
        "outputId": "8301675e-eeee-4019-d9f0-5ecb55ac2b1a",
        "colab": {
          "base_uri": "https://localhost:8080/",
          "height": 1424
        }
      },
      "source": [
        "# Visualization\n",
        "\n",
        "t2i, s2i, in2i = map(dicts.get, ['token_ids', 'slot_ids','intent_ids'])\n",
        "i2t, i2s, i2in = map(lambda d: {d[k]:k for k in d.keys()}, [t2i,s2i,in2i])\n",
        "query, slots, intent =  map(train_ds.get, ['query', 'slot_labels', 'intent_labels'])\n",
        "\n",
        "for i in range(5):\n",
        "    print('{:4d}:{:>15}: {}'.format(i, i2in[intent[i][0]],\n",
        "                                    ' '.join(map(i2t.get, query[i]))))\n",
        "    for j in range(len(query[i])):\n",
        "        print('{:>33} {:>40}'.format(i2t[query[i][j]],\n",
        "                                     i2s[slots[i][j]]  ))\n",
        "    print('*'*74)"
      ],
      "execution_count": 0,
      "outputs": [
        {
          "output_type": "stream",
          "text": [
            "   0:         flight: BOS i want to fly from boston at 838 am and arrive in denver at 1110 in the morning EOS\n",
            "                              BOS                                        O\n",
            "                                i                                        O\n",
            "                             want                                        O\n",
            "                               to                                        O\n",
            "                              fly                                        O\n",
            "                             from                                        O\n",
            "                           boston                      B-fromloc.city_name\n",
            "                               at                                        O\n",
            "                              838                       B-depart_time.time\n",
            "                               am                       I-depart_time.time\n",
            "                              and                                        O\n",
            "                           arrive                                        O\n",
            "                               in                                        O\n",
            "                           denver                        B-toloc.city_name\n",
            "                               at                                        O\n",
            "                             1110                       B-arrive_time.time\n",
            "                               in                                        O\n",
            "                              the                                        O\n",
            "                          morning              B-arrive_time.period_of_day\n",
            "                              EOS                                        O\n",
            "**************************************************************************\n",
            "   1:         flight: BOS what flights are available from pittsburgh to baltimore on thursday morning EOS\n",
            "                              BOS                                        O\n",
            "                             what                                        O\n",
            "                          flights                                        O\n",
            "                              are                                        O\n",
            "                        available                                        O\n",
            "                             from                                        O\n",
            "                       pittsburgh                      B-fromloc.city_name\n",
            "                               to                                        O\n",
            "                        baltimore                        B-toloc.city_name\n",
            "                               on                                        O\n",
            "                         thursday                   B-depart_date.day_name\n",
            "                          morning              B-depart_time.period_of_day\n",
            "                              EOS                                        O\n",
            "**************************************************************************\n",
            "   2:    flight_time: BOS what is the arrival time in san francisco for the 755 am flight leaving washington EOS\n",
            "                              BOS                                        O\n",
            "                             what                                        O\n",
            "                               is                                        O\n",
            "                              the                                        O\n",
            "                          arrival                            B-flight_time\n",
            "                             time                            I-flight_time\n",
            "                               in                                        O\n",
            "                              san                      B-fromloc.city_name\n",
            "                        francisco                      I-fromloc.city_name\n",
            "                              for                                        O\n",
            "                              the                                        O\n",
            "                              755                       B-depart_time.time\n",
            "                               am                       I-depart_time.time\n",
            "                           flight                                        O\n",
            "                          leaving                                        O\n",
            "                       washington                      B-fromloc.city_name\n",
            "                              EOS                                        O\n",
            "**************************************************************************\n",
            "   3:        airfare: BOS cheapest airfare from tacoma to orlando EOS\n",
            "                              BOS                                        O\n",
            "                         cheapest                          B-cost_relative\n",
            "                          airfare                                        O\n",
            "                             from                                        O\n",
            "                           tacoma                      B-fromloc.city_name\n",
            "                               to                                        O\n",
            "                          orlando                        B-toloc.city_name\n",
            "                              EOS                                        O\n",
            "**************************************************************************\n",
            "   4:        airfare: BOS round trip fares from pittsburgh to philadelphia under 1000 dollars EOS\n",
            "                              BOS                                        O\n",
            "                            round                             B-round_trip\n",
            "                             trip                             I-round_trip\n",
            "                            fares                                        O\n",
            "                             from                                        O\n",
            "                       pittsburgh                      B-fromloc.city_name\n",
            "                               to                                        O\n",
            "                     philadelphia                        B-toloc.city_name\n",
            "                            under                          B-cost_relative\n",
            "                             1000                            B-fare_amount\n",
            "                          dollars                            I-fare_amount\n",
            "                              EOS                                        O\n",
            "**************************************************************************\n"
          ],
          "name": "stdout"
        }
      ]
    },
    {
      "cell_type": "code",
      "metadata": {
        "id": "nLkqkRK_jCwI",
        "colab_type": "code",
        "colab": {}
      },
      "source": [
        "MAX_LEN = 75\n",
        "bs = 32"
      ],
      "execution_count": 0,
      "outputs": []
    },
    {
      "cell_type": "code",
      "metadata": {
        "id": "54GNyF_KjC8o",
        "colab_type": "code",
        "colab": {}
      },
      "source": [
        "\n",
        "device = torch.device(\"cuda\" if torch.cuda.is_available() else \"cpu\")\n",
        "n_gpu = torch.cuda.device_count()\n"
      ],
      "execution_count": 0,
      "outputs": []
    },
    {
      "cell_type": "code",
      "metadata": {
        "id": "87eRqJQajDJJ",
        "colab_type": "code",
        "outputId": "bd7b3bc2-f147-4d67-eefe-81e0839a3f99",
        "colab": {
          "base_uri": "https://localhost:8080/",
          "height": 34
        }
      },
      "source": [
        "torch.cuda.get_device_name(0) "
      ],
      "execution_count": 13,
      "outputs": [
        {
          "output_type": "execute_result",
          "data": {
            "text/plain": [
              "'Tesla T4'"
            ]
          },
          "metadata": {
            "tags": []
          },
          "execution_count": 13
        }
      ]
    },
    {
      "cell_type": "code",
      "metadata": {
        "id": "N2xF9WLhqLnQ",
        "colab_type": "code",
        "colab": {
          "base_uri": "https://localhost:8080/",
          "height": 34
        },
        "outputId": "6ffc4dca-3688-4b31-eeac-5f0405287235"
      },
      "source": [
        "tokenizer = BertTokenizer.from_pretrained('bert-base-uncased', do_lower_case=True)"
      ],
      "execution_count": 14,
      "outputs": [
        {
          "output_type": "stream",
          "text": [
            "100%|██████████| 231508/231508 [00:00<00:00, 6003220.61B/s]\n"
          ],
          "name": "stderr"
        }
      ]
    },
    {
      "cell_type": "code",
      "metadata": {
        "id": "1v7UgbP7qb3Q",
        "colab_type": "code",
        "outputId": "6db0652d-94a0-4cc8-ea39-0d9e2469c76f",
        "colab": {
          "base_uri": "https://localhost:8080/",
          "height": 70
        }
      },
      "source": [
        "tokenized_texts = [tokenizer.tokenize(sent) for sent in sentence]\n",
        "print(tokenized_texts[0:10])\n",
        "len(tokenized_texts)"
      ],
      "execution_count": 15,
      "outputs": [
        {
          "output_type": "stream",
          "text": [
            "[['bo', '##s', 'i', 'want', 'to', 'fly', 'from', 'boston', 'at', '83', '##8', 'am', 'and', 'arrive', 'in', 'denver', 'at', '111', '##0', 'in', 'the', 'morning', 'e', '##os'], ['bo', '##s', 'what', 'flights', 'are', 'available', 'from', 'pittsburgh', 'to', 'baltimore', 'on', 'thursday', 'morning', 'e', '##os'], ['bo', '##s', 'what', 'is', 'the', 'arrival', 'time', 'in', 'san', 'francisco', 'for', 'the', '75', '##5', 'am', 'flight', 'leaving', 'washington', 'e', '##os'], ['bo', '##s', 'cheap', '##est', 'air', '##fare', 'from', 'tacoma', 'to', 'orlando', 'e', '##os'], ['bo', '##s', 'round', 'trip', 'fares', 'from', 'pittsburgh', 'to', 'philadelphia', 'under', '1000', 'dollars', 'e', '##os'], ['bo', '##s', 'i', 'need', 'a', 'flight', 'tomorrow', 'from', 'columbus', 'to', 'minneapolis', 'e', '##os'], ['bo', '##s', 'what', 'kind', 'of', 'aircraft', 'is', 'used', 'on', 'a', 'flight', 'from', 'cleveland', 'to', 'dallas', 'e', '##os'], ['bo', '##s', 'show', 'me', 'the', 'flights', 'from', 'pittsburgh', 'to', 'los', 'angeles', 'on', 'thursday', 'e', '##os'], ['bo', '##s', 'all', 'flights', 'from', 'boston', 'to', 'washington', 'e', '##os'], ['bo', '##s', 'what', 'kind', 'of', 'ground', 'transportation', 'is', 'available', 'in', 'denver', 'e', '##os']]\n"
          ],
          "name": "stdout"
        },
        {
          "output_type": "execute_result",
          "data": {
            "text/plain": [
              "4978"
            ]
          },
          "metadata": {
            "tags": []
          },
          "execution_count": 15
        }
      ]
    },
    {
      "cell_type": "code",
      "metadata": {
        "id": "a9E6uCDLrhlP",
        "colab_type": "code",
        "colab": {}
      },
      "source": [
        "input_ids = pad_sequences([tokenizer.convert_tokens_to_ids(txt) for txt in tokenized_texts],\n",
        "                          maxlen=MAX_LEN, dtype=\"long\", padding=\"post\")"
      ],
      "execution_count": 0,
      "outputs": []
    },
    {
      "cell_type": "code",
      "metadata": {
        "id": "wl0y0hr5FfjC",
        "colab_type": "code",
        "outputId": "d57b5ea5-9168-4fae-a999-11ffd61f82e8",
        "colab": {
          "base_uri": "https://localhost:8080/",
          "height": 54
        }
      },
      "source": [
        "print(labels[0])"
      ],
      "execution_count": 18,
      "outputs": [
        {
          "output_type": "stream",
          "text": [
            "['O', 'O', 'O', 'O', 'O', 'O', 'B-fromloc.city_name', 'O', 'B-depart_time.time', 'I-depart_time.time', 'O', 'O', 'O', 'B-toloc.city_name', 'O', 'B-arrive_time.time', 'O', 'O', 'B-arrive_time.period_of_day', 'O']\n"
          ],
          "name": "stdout"
        }
      ]
    },
    {
      "cell_type": "code",
      "metadata": {
        "id": "C_YvITXSxrlg",
        "colab_type": "code",
        "colab": {}
      },
      "source": [
        "tags = pad_sequences([[s2i.get(l) for l in lab] for lab in labels],\n",
        "                     maxlen=MAX_LEN, value=s2i[\"O\"], padding=\"post\",dtype=\"long\", truncating=\"post\")"
      ],
      "execution_count": 0,
      "outputs": []
    },
    {
      "cell_type": "code",
      "metadata": {
        "id": "AkY9DzQWF__P",
        "colab_type": "code",
        "outputId": "36ed7b98-32ad-4ea8-cb4b-fd9883a4f95f",
        "colab": {
          "base_uri": "https://localhost:8080/",
          "height": 84
        }
      },
      "source": [
        "print(len(sentence))\n",
        "print(len(labels))\n",
        "print(len(tags))\n",
        "print(len(input_ids))"
      ],
      "execution_count": 20,
      "outputs": [
        {
          "output_type": "stream",
          "text": [
            "4978\n",
            "4978\n",
            "4978\n",
            "4978\n"
          ],
          "name": "stdout"
        }
      ]
    },
    {
      "cell_type": "code",
      "metadata": {
        "id": "H1t21tNXzj6d",
        "colab_type": "code",
        "colab": {}
      },
      "source": [
        "attention_masks = [[float(i>0) for i in ii] for ii in input_ids]"
      ],
      "execution_count": 0,
      "outputs": []
    },
    {
      "cell_type": "code",
      "metadata": {
        "id": "302fzX6hB8C7",
        "colab_type": "code",
        "colab": {}
      },
      "source": [
        "tr_inputs, val_inputs, tr_tags, val_tags = train_test_split(input_ids, tags, \n",
        "                                                            random_state=2018, test_size=0.1)\n",
        "tr_masks, val_masks, _, _ = train_test_split(attention_masks, input_ids,\n",
        "                                             random_state=2018, test_size=0.1)"
      ],
      "execution_count": 0,
      "outputs": []
    },
    {
      "cell_type": "code",
      "metadata": {
        "id": "AWFg_5kKCInq",
        "colab_type": "code",
        "colab": {}
      },
      "source": [
        "tr_inputs = torch.tensor(tr_inputs)\n",
        "val_inputs = torch.tensor(val_inputs)\n",
        "tr_tags = torch.tensor(tr_tags)\n",
        "val_tags = torch.tensor(val_tags)\n",
        "tr_masks = torch.tensor(tr_masks)\n",
        "val_masks = torch.tensor(val_masks)"
      ],
      "execution_count": 0,
      "outputs": []
    },
    {
      "cell_type": "code",
      "metadata": {
        "id": "U01KGeVeaSYp",
        "colab_type": "code",
        "colab": {}
      },
      "source": [
        "train_data = TensorDataset(tr_inputs, tr_masks, tr_tags)\n",
        "train_sampler = RandomSampler(train_data)\n",
        "train_dataloader = DataLoader(train_data, sampler=train_sampler, batch_size=bs)\n",
        "\n",
        "valid_data = TensorDataset(val_inputs, val_masks, val_tags)\n",
        "valid_sampler = SequentialSampler(valid_data)\n",
        "valid_dataloader = DataLoader(valid_data, sampler=valid_sampler, batch_size=bs)"
      ],
      "execution_count": 0,
      "outputs": []
    },
    {
      "cell_type": "code",
      "metadata": {
        "id": "qxwE5iO2gBsI",
        "colab_type": "code",
        "colab": {
          "base_uri": "https://localhost:8080/",
          "height": 34
        },
        "outputId": "157fb3cd-cf6d-4680-a727-2b64c1f74623"
      },
      "source": [
        "model = BertForTokenClassification.from_pretrained(\"bert-base-uncased\", num_labels=len(s2i))"
      ],
      "execution_count": 25,
      "outputs": [
        {
          "output_type": "stream",
          "text": [
            "100%|██████████| 407873900/407873900 [00:07<00:00, 55226986.13B/s]\n"
          ],
          "name": "stderr"
        }
      ]
    },
    {
      "cell_type": "code",
      "metadata": {
        "id": "bMXBsURqBsVb",
        "colab_type": "code",
        "colab": {}
      },
      "source": [
        ""
      ],
      "execution_count": 0,
      "outputs": []
    },
    {
      "cell_type": "code",
      "metadata": {
        "id": "3795zm7BgEdQ",
        "colab_type": "code",
        "colab": {}
      },
      "source": [
        "model.cuda();"
      ],
      "execution_count": 0,
      "outputs": []
    },
    {
      "cell_type": "code",
      "metadata": {
        "id": "275x3N91gLIX",
        "colab_type": "code",
        "colab": {}
      },
      "source": [
        "FULL_FINETUNING = True\n",
        "if FULL_FINETUNING:\n",
        "    param_optimizer = list(model.named_parameters())\n",
        "    no_decay = ['bias', 'gamma', 'beta']\n",
        "    optimizer_grouped_parameters = [\n",
        "        {'params': [p for n, p in param_optimizer if not any(nd in n for nd in no_decay)],\n",
        "         'weight_decay_rate': 0.01},\n",
        "        {'params': [p for n, p in param_optimizer if any(nd in n for nd in no_decay)],\n",
        "         'weight_decay_rate': 0.0}\n",
        "    ]\n",
        "else:\n",
        "    param_optimizer = list(model.classifier.named_parameters()) \n",
        "    optimizer_grouped_parameters = [{\"params\": [p for n, p in param_optimizer]}]\n",
        "optimizer = Adam(optimizer_grouped_parameters, lr=3e-5)\n"
      ],
      "execution_count": 0,
      "outputs": []
    },
    {
      "cell_type": "code",
      "metadata": {
        "id": "EZUY_pMwgQ5P",
        "colab_type": "code",
        "colab": {}
      },
      "source": [
        "\n",
        "\n",
        "def flat_accuracy(preds, labels):\n",
        "    pred_flat = np.argmax(preds, axis=2).flatten()\n",
        "    labels_flat = labels.flatten()\n",
        "    return np.sum(pred_flat == labels_flat) / len(labels_flat)"
      ],
      "execution_count": 0,
      "outputs": []
    },
    {
      "cell_type": "code",
      "metadata": {
        "id": "Dg0AK__rgT3T",
        "colab_type": "code",
        "outputId": "1373ce13-2a46-4133-cf64-a74a1983b57b",
        "colab": {
          "base_uri": "https://localhost:8080/",
          "height": 370
        }
      },
      "source": [
        "epochs = 5\n",
        "max_grad_norm = 1.0\n",
        "\n",
        "for _ in trange(epochs, desc=\"Epoch\"):\n",
        "    # TRAIN loop\n",
        "    model.train()\n",
        "    tr_loss = 0\n",
        "    nb_tr_examples, nb_tr_steps = 0, 0\n",
        "    for step, batch in enumerate(train_dataloader):\n",
        "        # add batch to gpu\n",
        "        batch = tuple(t.to(device) for t in batch)\n",
        "        b_input_ids, b_input_mask, b_labels = batch\n",
        "        # forward pass\n",
        "        loss = model(b_input_ids, token_type_ids=None,\n",
        "                     attention_mask=b_input_mask, labels=b_labels)\n",
        "        # backward pass\n",
        "        loss.backward()\n",
        "        # track train loss\n",
        "        tr_loss += loss.item()\n",
        "        nb_tr_examples += b_input_ids.size(0)\n",
        "        nb_tr_steps += 1\n",
        "        # gradient clipping\n",
        "        torch.nn.utils.clip_grad_norm_(parameters=model.parameters(), max_norm=max_grad_norm)\n",
        "        # update parameters\n",
        "        optimizer.step()\n",
        "        model.zero_grad()\n",
        "    # print train loss per epoch\n",
        "    print(\"Train loss: {}\".format(tr_loss/nb_tr_steps))\n",
        "    # VALIDATION on validation set\n",
        "    model.eval()\n",
        "    eval_loss, eval_accuracy = 0, 0\n",
        "    nb_eval_steps, nb_eval_examples = 0, 0\n",
        "    predictions , true_labels = [], []\n",
        "    for batch in valid_dataloader:\n",
        "        batch = tuple(t.to(device) for t in batch)\n",
        "        b_input_ids, b_input_mask, b_labels = batch\n",
        "        \n",
        "        with torch.no_grad():\n",
        "            tmp_eval_loss = model(b_input_ids, token_type_ids=None,\n",
        "                                  attention_mask=b_input_mask, labels=b_labels)\n",
        "            logits = model(b_input_ids, token_type_ids=None,\n",
        "                           attention_mask=b_input_mask)\n",
        "        logits = logits.detach().cpu().numpy()\n",
        "        label_ids = b_labels.to('cpu').numpy()\n",
        "        predictions.extend([list(p) for p in np.argmax(logits, axis=2)])\n",
        "        true_labels.append(label_ids)\n",
        "        \n",
        "        tmp_eval_accuracy = flat_accuracy(logits, label_ids)\n",
        "        \n",
        "        eval_loss += tmp_eval_loss.mean().item()\n",
        "        eval_accuracy += tmp_eval_accuracy\n",
        "        \n",
        "        nb_eval_examples += b_input_ids.size(0)\n",
        "        nb_eval_steps += 1\n",
        "    eval_loss = eval_loss/nb_eval_steps\n",
        "    print(\"Validation loss: {}\".format(eval_loss))\n",
        "    print(\"Validation Accuracy: {}\".format(eval_accuracy/nb_eval_steps))\n",
        "    pred_tags = [tags_vals[p_i] for p in predictions for p_i in p]\n",
        "    valid_tags = [tags_vals[l_ii] for l in true_labels for l_i in l for l_ii in l_i]\n",
        "    print(\"F1-Score: {}\".format(f1_score(pred_tags, valid_tags)))"
      ],
      "execution_count": 29,
      "outputs": [
        {
          "output_type": "stream",
          "text": [
            "\rEpoch:   0%|          | 0/5 [00:00<?, ?it/s]"
          ],
          "name": "stderr"
        },
        {
          "output_type": "stream",
          "text": [
            "Train loss: 0.9513323913727488\n"
          ],
          "name": "stdout"
        },
        {
          "output_type": "stream",
          "text": [
            "\rEpoch:  20%|██        | 1/5 [01:15<05:02, 75.65s/it]"
          ],
          "name": "stderr"
        },
        {
          "output_type": "stream",
          "text": [
            "Validation loss: 0.43327582627534866\n",
            "Validation Accuracy: 0.8851302083333333\n",
            "F1-Score: 0.889900203913519\n",
            "Train loss: 0.33132514144693104\n"
          ],
          "name": "stdout"
        },
        {
          "output_type": "stream",
          "text": [
            "\rEpoch:  40%|████      | 2/5 [02:35<03:50, 76.77s/it]"
          ],
          "name": "stderr"
        },
        {
          "output_type": "stream",
          "text": [
            "Validation loss: 0.22068301402032375\n",
            "Validation Accuracy: 0.8889380787037038\n",
            "F1-Score: 0.8944282317336792\n",
            "Train loss: 0.18513931392558983\n"
          ],
          "name": "stdout"
        },
        {
          "output_type": "stream",
          "text": [
            "\rEpoch:  60%|██████    | 3/5 [03:54<02:35, 77.56s/it]"
          ],
          "name": "stderr"
        },
        {
          "output_type": "stream",
          "text": [
            "Validation loss: 0.14883416472002864\n",
            "Validation Accuracy: 0.8830208333333334\n",
            "F1-Score: 0.8884384080005407\n",
            "Train loss: 0.12146067547478846\n",
            "Validation loss: 0.11005320469848812\n",
            "Validation Accuracy: 0.8718663194444445\n"
          ],
          "name": "stdout"
        },
        {
          "output_type": "stream",
          "text": [
            "\rEpoch:  80%|████████  | 4/5 [05:13<01:18, 78.11s/it]"
          ],
          "name": "stderr"
        },
        {
          "output_type": "stream",
          "text": [
            "F1-Score: 0.8768019022142963\n",
            "Train loss: 0.0853724123111793\n"
          ],
          "name": "stdout"
        },
        {
          "output_type": "stream",
          "text": [
            "\rEpoch: 100%|██████████| 5/5 [06:33<00:00, 78.48s/it]"
          ],
          "name": "stderr"
        },
        {
          "output_type": "stream",
          "text": [
            "Validation loss: 0.09691944508813322\n",
            "Validation Accuracy: 0.8775520833333333\n",
            "F1-Score: 0.8831432124128237\n"
          ],
          "name": "stdout"
        },
        {
          "output_type": "stream",
          "text": [
            "\n"
          ],
          "name": "stderr"
        }
      ]
    },
    {
      "cell_type": "code",
      "metadata": {
        "id": "RxCnCyG4nmBH",
        "colab_type": "code",
        "outputId": "e697116f-23ae-4fa3-e766-b9557dccb1ba",
        "colab": {
          "base_uri": "https://localhost:8080/",
          "height": 67
        }
      },
      "source": [
        "model.eval()\n",
        "predictions = []\n",
        "true_labels = []\n",
        "eval_loss, eval_accuracy = 0, 0\n",
        "nb_eval_steps, nb_eval_examples = 0, 0\n",
        "for batch in valid_dataloader:\n",
        "    batch = tuple(t.to(device) for t in batch)\n",
        "    b_input_ids, b_input_mask, b_labels = batch\n",
        "\n",
        "    with torch.no_grad():\n",
        "        tmp_eval_loss = model(b_input_ids, token_type_ids=None,\n",
        "                              attention_mask=b_input_mask, labels=b_labels)\n",
        "        logits = model(b_input_ids, token_type_ids=None,\n",
        "                       attention_mask=b_input_mask)\n",
        "        \n",
        "    logits = logits.detach().cpu().numpy()\n",
        "    predictions.extend([list(p) for p in np.argmax(logits, axis=2)])\n",
        "    label_ids = b_labels.to('cpu').numpy()\n",
        "    true_labels.append(label_ids)\n",
        "    tmp_eval_accuracy = flat_accuracy(logits, label_ids)\n",
        "\n",
        "    eval_loss += tmp_eval_loss.mean().item()\n",
        "    eval_accuracy += tmp_eval_accuracy\n",
        "\n",
        "    nb_eval_examples += b_input_ids.size(0)\n",
        "    nb_eval_steps += 1\n",
        "\n",
        "pred_tags = [[tags_vals[p_i] for p_i in p] for p in predictions]\n",
        "valid_tags = [[tags_vals[l_ii] for l_ii in l_i] for l in true_labels for l_i in l ]\n",
        "print(\"Validation loss: {}\".format(eval_loss/nb_eval_steps))\n",
        "print(\"Validation Accuracy: {}\".format(eval_accuracy/nb_eval_steps))\n",
        "print(\"Validation F1-Score: {}\".format(f1_score(pred_tags, valid_tags)))"
      ],
      "execution_count": 30,
      "outputs": [
        {
          "output_type": "stream",
          "text": [
            "Validation loss: 0.09691944508813322\n",
            "Validation Accuracy: 0.8775520833333333\n",
            "Validation F1-Score: 0.8831432124128237\n"
          ],
          "name": "stdout"
        }
      ]
    },
    {
      "cell_type": "code",
      "metadata": {
        "id": "LH14lmRHgWeA",
        "colab_type": "code",
        "colab": {}
      },
      "source": [
        ""
      ],
      "execution_count": 0,
      "outputs": []
    }
  ]
}